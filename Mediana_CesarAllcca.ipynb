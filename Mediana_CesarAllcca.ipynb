{
  "nbformat": 4,
  "nbformat_minor": 0,
  "metadata": {
    "colab": {
      "provenance": []
    },
    "kernelspec": {
      "name": "python3",
      "display_name": "Python 3"
    },
    "language_info": {
      "name": "python"
    }
  },
  "cells": [
    {
      "cell_type": "code",
      "execution_count": 1,
      "metadata": {
        "id": "OtXust5Gy5zi"
      },
      "outputs": [],
      "source": [
        "from pyspark.sql import SparkSession\n",
        "from pyspark.sql.functions import array, explode"
      ]
    },
    {
      "cell_type": "code",
      "source": [
        "spark = SparkSession.builder.appName(\"CalcularMediana\").getOrCreate()"
      ],
      "metadata": {
        "id": "XmHzp_uU0AwX"
      },
      "execution_count": 2,
      "outputs": []
    },
    {
      "cell_type": "code",
      "source": [
        "csv_file_path = '/content/S12_Moda.csv'"
      ],
      "metadata": {
        "id": "-vpRx4A30Es3"
      },
      "execution_count": 3,
      "outputs": []
    },
    {
      "cell_type": "code",
      "source": [
        "df = spark.read.csv(csv_file_path, header=True, inferSchema=True, sep= \";\")"
      ],
      "metadata": {
        "id": "QZvs2xPv0Knn"
      },
      "execution_count": 4,
      "outputs": []
    },
    {
      "cell_type": "code",
      "source": [
        "# Función para calcular la mediana de una columna\n",
        "def calcular_mediana(df, columna):\n",
        "    # Contar el número de filas\n",
        "    count = df.count()\n",
        "    # Ordenar los valores de la columna\n",
        "    sorted_df = df.select(columna).orderBy(columna)\n",
        "\n",
        "    # Si el número de filas es impar, tomar el valor central\n",
        "    if count % 2 == 1:\n",
        "        mediana = sorted_df.collect()[count // 2][0]\n",
        "    # Si es par, tomar el promedio de los dos valores centrales\n",
        "    else:\n",
        "        fila1 = sorted_df.collect()[count // 2 - 1][0]\n",
        "        fila2 = sorted_df.collect()[count // 2][0]\n",
        "        mediana = (fila1 + fila2) / 2\n",
        "    return mediana\n",
        "\n",
        "# Calcular la mediana para cada columna de notas\n",
        "mediana_nota1 = calcular_mediana(df, \"Nota1\")\n",
        "mediana_nota2 = calcular_mediana(df, \"Nota2\")\n",
        "mediana_nota3 = calcular_mediana(df, \"Nota3\")\n",
        "\n",
        "print(f\"La mediana de Nota1 es: {mediana_nota1}\")\n",
        "print(f\"La mediana de Nota2 es: {mediana_nota2}\")\n",
        "print(f\"La mediana de Nota3 es: {mediana_nota3}\")\n"
      ],
      "metadata": {
        "colab": {
          "base_uri": "https://localhost:8080/"
        },
        "id": "ngTrz-b90NQ3",
        "outputId": "aece5433-7c12-4577-f438-9ef5697de48d"
      },
      "execution_count": 5,
      "outputs": [
        {
          "output_type": "stream",
          "name": "stdout",
          "text": [
            "La mediana de Nota1 es: 17\n",
            "La mediana de Nota2 es: 16\n",
            "La mediana de Nota3 es: 14\n"
          ]
        }
      ]
    },
    {
      "cell_type": "code",
      "source": [
        "#Lista de notas de alumnos\n",
        "df.show(7)"
      ],
      "metadata": {
        "colab": {
          "base_uri": "https://localhost:8080/"
        },
        "id": "FAJFyPtw0pbX",
        "outputId": "9bfc5393-32a8-4a00-a388-4e262c36e7b9"
      },
      "execution_count": 6,
      "outputs": [
        {
          "output_type": "stream",
          "name": "stdout",
          "text": [
            "+-------+-----+-----+-----+\n",
            "| Nombre|Nota1|Nota2|Nota3|\n",
            "+-------+-----+-----+-----+\n",
            "|  Cesar|   20|   17|   15|\n",
            "|Gabriel|   17|   15|   14|\n",
            "|   Luis|   10|   12|   14|\n",
            "| Hector|   19|   16|   12|\n",
            "|  Pablo|   20|   19|   14|\n",
            "|  Samir|   15|   15|   17|\n",
            "| Carlos|   12|  161|   19|\n",
            "+-------+-----+-----+-----+\n",
            "\n"
          ]
        }
      ]
    }
  ]
}