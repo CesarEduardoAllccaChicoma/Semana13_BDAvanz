{
  "nbformat": 4,
  "nbformat_minor": 0,
  "metadata": {
    "colab": {
      "provenance": []
    },
    "kernelspec": {
      "name": "python3",
      "display_name": "Python 3"
    },
    "language_info": {
      "name": "python"
    }
  },
  "cells": [
    {
      "cell_type": "code",
      "execution_count": 2,
      "metadata": {
        "id": "RnYre-ccn7KL"
      },
      "outputs": [],
      "source": [
        "from pyspark.sql import SparkSession\n",
        "from pyspark.sql.functions import col, count, explode, array"
      ]
    },
    {
      "cell_type": "code",
      "source": [
        "spark = SparkSession.builder.appName(\"CalcularModa\").getOrCreate()"
      ],
      "metadata": {
        "id": "8V1ebQMerv_S"
      },
      "execution_count": 3,
      "outputs": []
    },
    {
      "cell_type": "code",
      "source": [
        "csv_file_path = '/content/S12_Moda.csv'"
      ],
      "metadata": {
        "id": "7HAF9tvIs7yK"
      },
      "execution_count": 4,
      "outputs": []
    },
    {
      "cell_type": "code",
      "source": [
        "df = spark.read.csv(csv_file_path, header=True, inferSchema=True, sep= \";\")"
      ],
      "metadata": {
        "id": "L1bQ37t8tDEQ"
      },
      "execution_count": 12,
      "outputs": []
    },
    {
      "cell_type": "code",
      "source": [
        "#Combinar todas las columnas de notas en un solo array y expandir a filas individuales\n",
        "notas_df = df.select(explode(array( \"Nota1\", \"Nota2\", \"Nota3\")).alias(\"nota\"))\n",
        "#Calcular frecuencia de cada nota\n",
        "moda_df =notas_df.groupBy(\"nota\").count().orderBy(col(\"count\").desc())\n",
        "#Mostrar la moda\n",
        "moda_valor = moda_df.first()\n",
        "print(f\"La moda es: {moda_valor['nota']} con una frecuencia de {moda_valor['count']}\")"
      ],
      "metadata": {
        "colab": {
          "base_uri": "https://localhost:8080/"
        },
        "id": "ZMcQMYV7tPQo",
        "outputId": "f26ebfd6-34b5-4172-b032-93a5698f455c"
      },
      "execution_count": 19,
      "outputs": [
        {
          "output_type": "stream",
          "name": "stdout",
          "text": [
            "La moda es: 15 con una frecuencia de 4\n"
          ]
        }
      ]
    },
    {
      "cell_type": "code",
      "source": [
        "df.printSchema()"
      ],
      "metadata": {
        "colab": {
          "base_uri": "https://localhost:8080/"
        },
        "id": "2aRyjRTjvoTS",
        "outputId": "c5bb9369-3d64-4530-fb28-1e06f5353d67"
      },
      "execution_count": 13,
      "outputs": [
        {
          "output_type": "stream",
          "name": "stdout",
          "text": [
            "root\n",
            " |-- Nombre: string (nullable = true)\n",
            " |-- Nota1: integer (nullable = true)\n",
            " |-- Nota2: integer (nullable = true)\n",
            " |-- Nota3: integer (nullable = true)\n",
            "\n"
          ]
        }
      ]
    },
    {
      "cell_type": "code",
      "source": [
        "df.show(7)"
      ],
      "metadata": {
        "colab": {
          "base_uri": "https://localhost:8080/"
        },
        "id": "NvabvNPKvuRA",
        "outputId": "cbab7b3c-b7b8-4c56-ba80-a9d029e661ea"
      },
      "execution_count": 20,
      "outputs": [
        {
          "output_type": "stream",
          "name": "stdout",
          "text": [
            "+-------+-----+-----+-----+\n",
            "| Nombre|Nota1|Nota2|Nota3|\n",
            "+-------+-----+-----+-----+\n",
            "|  Cesar|   20|   17|   15|\n",
            "|Gabriel|   17|   15|   14|\n",
            "|   Luis|   10|   12|   14|\n",
            "| Hector|   19|   16|   12|\n",
            "|  Pablo|   20|   19|   14|\n",
            "|  Samir|   15|   15|   17|\n",
            "| Carlos|   12|  161|   19|\n",
            "+-------+-----+-----+-----+\n",
            "\n"
          ]
        }
      ]
    }
  ]
}