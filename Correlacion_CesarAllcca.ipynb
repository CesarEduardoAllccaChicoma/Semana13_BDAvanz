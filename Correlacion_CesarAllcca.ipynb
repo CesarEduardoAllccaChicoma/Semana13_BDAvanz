{
  "nbformat": 4,
  "nbformat_minor": 0,
  "metadata": {
    "colab": {
      "provenance": []
    },
    "kernelspec": {
      "name": "python3",
      "display_name": "Python 3"
    },
    "language_info": {
      "name": "python"
    }
  },
  "cells": [
    {
      "cell_type": "code",
      "source": [
        "!pip install pyspark"
      ],
      "metadata": {
        "colab": {
          "base_uri": "https://localhost:8080/"
        },
        "id": "IGL6SNeC2OEW",
        "outputId": "1adaab66-2a8b-4237-ad25-f7f3bb643fcb"
      },
      "execution_count": 1,
      "outputs": [
        {
          "output_type": "stream",
          "name": "stdout",
          "text": [
            "Requirement already satisfied: pyspark in /usr/local/lib/python3.10/dist-packages (3.5.3)\n",
            "Requirement already satisfied: py4j==0.10.9.7 in /usr/local/lib/python3.10/dist-packages (from pyspark) (0.10.9.7)\n"
          ]
        }
      ]
    },
    {
      "cell_type": "code",
      "execution_count": 2,
      "metadata": {
        "id": "gOSiO6ik19oe"
      },
      "outputs": [],
      "source": [
        "from pyspark.sql import SparkSession"
      ]
    },
    {
      "cell_type": "code",
      "source": [
        "spark = SparkSession.builder.appName(\"CalcularCorrelacion\").getOrCreate()"
      ],
      "metadata": {
        "id": "9dD9DW092Hqe"
      },
      "execution_count": 3,
      "outputs": []
    },
    {
      "cell_type": "code",
      "source": [
        "csv_file_path = '/content/S12_Moda.csv'"
      ],
      "metadata": {
        "id": "M84EaVHu_AhO"
      },
      "execution_count": 4,
      "outputs": []
    },
    {
      "cell_type": "code",
      "source": [
        "df = spark.read.csv(csv_file_path, header=True, inferSchema=True, sep=\";\")"
      ],
      "metadata": {
        "id": "2dalLKaI_Hy1"
      },
      "execution_count": 5,
      "outputs": []
    },
    {
      "cell_type": "code",
      "source": [
        "# Calcular la correlación entre Nota1 y Nota2\n",
        "correlacion_nota1_nota2 = df.stat.corr(\"Nota1\", \"Nota2\")\n",
        "print(f\"La correlación entre Nota1 y Nota2 es: {correlacion_nota1_nota2}\")\n",
        "\n",
        "# Calcular la correlación entre Nota1 y Nota3\n",
        "correlacion_nota1_nota3 = df.stat.corr(\"Nota1\", \"Nota3\")\n",
        "print(f\"La correlación entre Nota1 y Nota3 es: {correlacion_nota1_nota3}\")\n",
        "\n",
        "# Calcular la correlación entre Nota2 y Nota3\n",
        "correlacion_nota2_nota3 = df.stat.corr(\"Nota2\", \"Nota3\")\n",
        "print(f\"La correlación entre Nota2 y Nota3 es: {correlacion_nota2_nota3}\")\n"
      ],
      "metadata": {
        "colab": {
          "base_uri": "https://localhost:8080/"
        },
        "id": "F0YdjAWg_LSe",
        "outputId": "3cd43e6d-b99c-4357-b342-392acef0f1d0"
      },
      "execution_count": 6,
      "outputs": [
        {
          "output_type": "stream",
          "name": "stdout",
          "text": [
            "La correlación entre Nota1 y Nota2 es: -0.4273323931478716\n",
            "La correlación entre Nota1 y Nota3 es: -0.4719145190106063\n",
            "La correlación entre Nota2 y Nota3 es: 0.7614362891405092\n"
          ]
        }
      ]
    },
    {
      "cell_type": "markdown",
      "source": [
        "La función df.stat.corr(columna1, columna2) calcula el coeficiente de correlación de Pearson entre dos columnas.\n",
        "\n",
        "En este caso, calculamos la correlación entre cada par de columnas de notas: Nota1 y Nota2, Nota1 y Nota3, y Nota2 y Nota3.\n",
        "\n",
        "El resultado será un valor entre -1 y 1, donde:\n",
        "*1 indica una correlación positiva perfecta.\n",
        "*-1 indica una correlación negativa perfecta.\n",
        "*0 indica que no hay correlación."
      ],
      "metadata": {
        "id": "VWO2bg4k_Tu-"
      }
    },
    {
      "cell_type": "code",
      "source": [
        "#Notas de alumnos\n",
        "df.show(8)"
      ],
      "metadata": {
        "colab": {
          "base_uri": "https://localhost:8080/"
        },
        "id": "zbKC6-BXAaP2",
        "outputId": "eb2085f2-af35-402b-aad9-00ca139c194d"
      },
      "execution_count": 8,
      "outputs": [
        {
          "output_type": "stream",
          "name": "stdout",
          "text": [
            "+-------+-----+-----+-----+\n",
            "| Nombre|Nota1|Nota2|Nota3|\n",
            "+-------+-----+-----+-----+\n",
            "|  Cesar|   20|   17|   15|\n",
            "|Gabriel|   17|   15|   14|\n",
            "|   Luis|   10|   12|   14|\n",
            "| Hector|   19|   16|   12|\n",
            "|  Pablo|   20|   19|   14|\n",
            "|  Samir|   15|   15|   17|\n",
            "| Carlos|   12|  161|   19|\n",
            "+-------+-----+-----+-----+\n",
            "\n"
          ]
        }
      ]
    }
  ]
}