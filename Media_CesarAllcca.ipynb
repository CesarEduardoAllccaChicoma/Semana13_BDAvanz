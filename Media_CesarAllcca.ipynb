{
  "nbformat": 4,
  "nbformat_minor": 0,
  "metadata": {
    "colab": {
      "provenance": []
    },
    "kernelspec": {
      "name": "python3",
      "display_name": "Python 3"
    },
    "language_info": {
      "name": "python"
    }
  },
  "cells": [
    {
      "cell_type": "code",
      "execution_count": 1,
      "metadata": {
        "id": "hw5kWvfKxS17"
      },
      "outputs": [],
      "source": [
        "from pyspark.sql import SparkSession\n",
        "from pyspark.sql.functions import col, mean, array, explode"
      ]
    },
    {
      "cell_type": "code",
      "source": [
        "spark = SparkSession.builder.appName(\"CalcularMedia\").getOrCreate()"
      ],
      "metadata": {
        "id": "7UhSl_K8x5rw"
      },
      "execution_count": 2,
      "outputs": []
    },
    {
      "cell_type": "code",
      "source": [
        "csv_file_path = '/content/S12_Moda.csv'"
      ],
      "metadata": {
        "id": "ynn-d04hyH4A"
      },
      "execution_count": 3,
      "outputs": []
    },
    {
      "cell_type": "code",
      "source": [
        "df = spark.read.csv(csv_file_path, header=True, inferSchema=True, sep= \";\")"
      ],
      "metadata": {
        "id": "GXeXsdRCyOWP"
      },
      "execution_count": 4,
      "outputs": []
    },
    {
      "cell_type": "code",
      "source": [
        "#Calcular media de cada columna de notas\n",
        "media_df = df.select(mean (\"Nota1\").alias(\"Media_Nota1\"),\n",
        "                     mean (\"Nota2\").alias(\"Media_Nota2\"),\n",
        "                     mean (\"Nota3\").alias(\"Media_Nota3\"))\n",
        "media_df.show()"
      ],
      "metadata": {
        "colab": {
          "base_uri": "https://localhost:8080/"
        },
        "id": "mX8MXEqKyU-v",
        "outputId": "61087f62-0a02-4b74-b264-73811a7be9de"
      },
      "execution_count": 5,
      "outputs": [
        {
          "output_type": "stream",
          "name": "stdout",
          "text": [
            "+------------------+-----------------+-----------+\n",
            "|       Media_Nota1|      Media_Nota2|Media_Nota3|\n",
            "+------------------+-----------------+-----------+\n",
            "|16.142857142857142|36.42857142857143|       15.0|\n",
            "+------------------+-----------------+-----------+\n",
            "\n"
          ]
        }
      ]
    },
    {
      "cell_type": "code",
      "source": [
        "#Lista de notas de alumnos\n",
        "df.show(7)"
      ],
      "metadata": {
        "colab": {
          "base_uri": "https://localhost:8080/"
        },
        "id": "XaPXCj_vyw9o",
        "outputId": "f278ab9b-07b0-4abc-b047-09799dea87b4"
      },
      "execution_count": 7,
      "outputs": [
        {
          "output_type": "stream",
          "name": "stdout",
          "text": [
            "+-------+-----+-----+-----+\n",
            "| Nombre|Nota1|Nota2|Nota3|\n",
            "+-------+-----+-----+-----+\n",
            "|  Cesar|   20|   17|   15|\n",
            "|Gabriel|   17|   15|   14|\n",
            "|   Luis|   10|   12|   14|\n",
            "| Hector|   19|   16|   12|\n",
            "|  Pablo|   20|   19|   14|\n",
            "|  Samir|   15|   15|   17|\n",
            "| Carlos|   12|  161|   19|\n",
            "+-------+-----+-----+-----+\n",
            "\n"
          ]
        }
      ]
    }
  ]
}